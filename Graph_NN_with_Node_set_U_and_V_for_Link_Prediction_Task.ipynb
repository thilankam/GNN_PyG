{
  "nbformat": 4,
  "nbformat_minor": 0,
  "metadata": {
    "colab": {
      "provenance": [],
      "authorship_tag": "ABX9TyNQnboRIcgmElrjA9NaCqcO",
      "include_colab_link": true
    },
    "kernelspec": {
      "name": "python3",
      "display_name": "Python 3"
    },
    "language_info": {
      "name": "python"
    }
  },
  "cells": [
    {
      "cell_type": "markdown",
      "metadata": {
        "id": "view-in-github",
        "colab_type": "text"
      },
      "source": [
        "<a href=\"https://colab.research.google.com/github/thilankam/GraphNeuralNetwork_PyG/blob/main/Graph_NN_with_Node_set_U_and_V_for_Link_Prediction_Task.ipynb\" target=\"_parent\"><img src=\"https://colab.research.google.com/assets/colab-badge.svg\" alt=\"Open In Colab\"/></a>"
      ]
    },
    {
      "cell_type": "code",
      "source": [],
      "metadata": {
        "id": "XlxqXdw_cTMg"
      },
      "execution_count": null,
      "outputs": []
    },
    {
      "cell_type": "code",
      "source": [
        "import os\n",
        "import torch\n",
        "os.environ['TORCH'] = torch.__version__\n",
        "print(torch.__version__)\n",
        "\n",
        "!pip install -q torch-scatter -f https://data.pyg.org/whl/torch-${TORCH}.html\n",
        "!pip install -q torch-sparse -f https://data.pyg.org/whl/torch-${TORCH}.html\n",
        "!pip install -q git+https://github.com/pyg-team/pytorch_geometric.git"
      ],
      "metadata": {
        "colab": {
          "base_uri": "https://localhost:8080/"
        },
        "id": "OYh1KPqLYVP3",
        "outputId": "6223444b-6ddc-4fc0-82dc-3c0adb789267"
      },
      "execution_count": 1,
      "outputs": [
        {
          "output_type": "stream",
          "name": "stdout",
          "text": [
            "1.13.1+cu116\n",
            "\u001b[2K     \u001b[90m━━━━━━━━━━━━━━━━━━━━━━━━━━━━━━━━━━━━━━━━\u001b[0m \u001b[32m9.4/9.4 MB\u001b[0m \u001b[31m59.1 MB/s\u001b[0m eta \u001b[36m0:00:00\u001b[0m\n",
            "\u001b[2K     \u001b[90m━━━━━━━━━━━━━━━━━━━━━━━━━━━━━━━━━━━━━━━━\u001b[0m \u001b[32m4.5/4.5 MB\u001b[0m \u001b[31m22.9 MB/s\u001b[0m eta \u001b[36m0:00:00\u001b[0m\n",
            "\u001b[?25h  Installing build dependencies ... \u001b[?25l\u001b[?25hdone\n",
            "  Getting requirements to build wheel ... \u001b[?25l\u001b[?25hdone\n",
            "  Preparing metadata (pyproject.toml) ... \u001b[?25l\u001b[?25hdone\n",
            "\u001b[2K     \u001b[90m━━━━━━━━━━━━━━━━━━━━━━━━━━━━━━━━━━━━━━\u001b[0m \u001b[32m280.2/280.2 KB\u001b[0m \u001b[31m19.2 MB/s\u001b[0m eta \u001b[36m0:00:00\u001b[0m\n",
            "\u001b[?25h  Building wheel for torch-geometric (pyproject.toml) ... \u001b[?25l\u001b[?25hdone\n"
          ]
        }
      ]
    },
    {
      "cell_type": "code",
      "source": [
        "import torch_geometric\n",
        "from torch_geometric.data import Data"
      ],
      "metadata": {
        "id": "VwDDus-3cht0"
      },
      "execution_count": 2,
      "outputs": []
    },
    {
      "cell_type": "code",
      "execution_count": 4,
      "metadata": {
        "colab": {
          "base_uri": "https://localhost:8080/"
        },
        "id": "tiVIIEiucO1d",
        "outputId": "7e5fdcdb-5f4e-4982-8397-4fc9760c76d1"
      },
      "outputs": [
        {
          "output_type": "stream",
          "name": "stdout",
          "text": [
            "Data(x=[243, 10], edge_index=[0], u_mask=[243], v_mask=[243])\n"
          ]
        }
      ],
      "source": [
        "import torch\n",
        "from torch_geometric.data import Data\n",
        "\n",
        "# Define the number of nodes in each node set\n",
        "num_u_nodes = 8\n",
        "num_v_nodes = 235\n",
        "\n",
        "# Create the node feature tensors for each node set\n",
        "u_features = torch.randn(num_u_nodes, 10)\n",
        "v_features = torch.randn(num_v_nodes, 10)\n",
        "\n",
        "# Create the edge indices for the graph (no edges for this example)\n",
        "edge_index = torch.tensor([], dtype=torch.long)\n",
        "\n",
        "# Create a PyG Data object for the graph\n",
        "data = Data(x=torch.cat([u_features, v_features], dim=0), edge_index=edge_index)\n",
        "\n",
        "# Separate the node features into the U and V node sets\n",
        "data.u_mask = torch.zeros(data.num_nodes, dtype=torch.bool)\n",
        "data.u_mask[:num_u_nodes] = 1\n",
        "data.v_mask = ~data.u_mask\n",
        "\n",
        "# Print some information about the graph\n",
        "print(data)\n"
      ]
    },
    {
      "cell_type": "code",
      "source": [
        "import torch\n",
        "import torch.nn.functional as F\n",
        "from torch_geometric.nn import MessagePassing\n",
        "from torch_geometric.utils import add_self_loops, degree\n",
        "\n",
        "# Define the GNN model\n",
        "class GNN(MessagePassing):\n",
        "    def __init__(self, in_channels, out_channels):\n",
        "        super(GNN, self).__init__(aggr='mean')  # \"Mean\" aggregation.\n",
        "        self.lin = torch.nn.Linear(in_channels, out_channels)\n",
        "\n",
        "    def forward(self, x, edge_index):\n",
        "        # Add self-loops to the adjacency matrix.\n",
        "        edge_index, _ = add_self_loops(edge_index, num_nodes=x.size(0))\n",
        "\n",
        "        # Compute the degree matrix.\n",
        "        deg = degree(edge_index[0], x.size(0), dtype=x.dtype)\n",
        "        deg_inv_sqrt = deg.pow(-0.5)\n",
        "        deg_inv_sqrt[deg_inv_sqrt == float('inf')] = 0\n",
        "\n",
        "        # Apply graph convolution.\n",
        "        x = self.lin(x)\n",
        "        x = self.propagate(edge_index, x=x, norm=deg_inv_sqrt)\n",
        "        return x\n",
        "\n",
        "# Define the training and testing functions\n",
        "def train(model, optimizer, train_loader):\n",
        "    model.train()\n",
        "\n",
        "    for data in train_loader:\n",
        "        optimizer.zero_grad()\n",
        "        out = model(data.x, data.edge_index)[data.u_mask]\n",
        "        loss = F.binary_cross_entropy_with_logits(out, data.y)\n",
        "        loss.backward()\n",
        "        optimizer.step()\n",
        "\n",
        "def test(model, loader):\n",
        "    model.eval()\n",
        "    correct = 0\n",
        "\n",
        "    for data in loader:\n",
        "        with torch.no_grad():\n",
        "            out = model(data.x, data.edge_index)[data.u_mask]\n",
        "            pred = (out > 0).int()\n",
        "            correct += int((pred == data.y).sum())\n",
        "\n",
        "    acc = correct / len(loader.dataset)\n",
        "    return acc\n",
        "\n",
        "# Create a PyG Data object for the graph\n",
        "data = ...\n",
        "\n",
        "# Separate the node features into the U and V node sets\n",
        "data.u_mask = torch.zeros(data.num_nodes, dtype=torch.bool)\n",
        "data.u_mask[:num_u_nodes] = 1\n",
        "data.v_mask = ~data.u_mask\n",
        "\n",
        "# Add ground-truth link labels for U-V node pairs\n",
        "data.y = torch.zeros(data.num_nodes, dtype=torch.float)\n",
        "u_idx, v_idx = data.edge_index\n",
        "data.y[u_idx[data.u_mask], v_idx[data.v_mask]] = 1\n",
        "data.y[v_idx[data.v_mask], u_idx[data.u_mask]] = 1\n",
        "\n",
        "# Define the training and testing split indices\n",
        "train_idx = torch.arange(num_u_nodes)\n",
        "test_idx = torch.arange(num_u_nodes, data.num_nodes)\n",
        "\n",
        "# Create the GNN model and optimizer\n",
        "model = GNN(in_channels=10, out_channels=16)\n",
        "optimizer = torch.optim.Adam(model.parameters(), lr=0.01)\n",
        "\n",
        "# Train and test the model\n",
        "for epoch in range(100):\n",
        "    train(model, optimizer, data[train_idx])\n",
        "    acc = test(model, data[test_idx])\n",
        "    print(f'Epoch {epoch+1}, Test accuracy: {acc:.4f}')\n"
      ],
      "metadata": {
        "colab": {
          "base_uri": "https://localhost:8080/",
          "height": 235
        },
        "id": "9NINV-zpcSZ3",
        "outputId": "0bfbb4bc-8780-4a99-e72f-e7d4c83e68a0"
      },
      "execution_count": 5,
      "outputs": [
        {
          "output_type": "error",
          "ename": "AttributeError",
          "evalue": "ignored",
          "traceback": [
            "\u001b[0;31m---------------------------------------------------------------------------\u001b[0m",
            "\u001b[0;31mAttributeError\u001b[0m                            Traceback (most recent call last)",
            "\u001b[0;32m<ipython-input-5-a7751364aae9>\u001b[0m in \u001b[0;36m<module>\u001b[0;34m\u001b[0m\n\u001b[1;32m     52\u001b[0m \u001b[0;34m\u001b[0m\u001b[0m\n\u001b[1;32m     53\u001b[0m \u001b[0;31m# Separate the node features into the U and V node sets\u001b[0m\u001b[0;34m\u001b[0m\u001b[0;34m\u001b[0m\u001b[0m\n\u001b[0;32m---> 54\u001b[0;31m \u001b[0mdata\u001b[0m\u001b[0;34m.\u001b[0m\u001b[0mu_mask\u001b[0m \u001b[0;34m=\u001b[0m \u001b[0mtorch\u001b[0m\u001b[0;34m.\u001b[0m\u001b[0mzeros\u001b[0m\u001b[0;34m(\u001b[0m\u001b[0mdata\u001b[0m\u001b[0;34m.\u001b[0m\u001b[0mnum_nodes\u001b[0m\u001b[0;34m,\u001b[0m \u001b[0mdtype\u001b[0m\u001b[0;34m=\u001b[0m\u001b[0mtorch\u001b[0m\u001b[0;34m.\u001b[0m\u001b[0mbool\u001b[0m\u001b[0;34m)\u001b[0m\u001b[0;34m\u001b[0m\u001b[0;34m\u001b[0m\u001b[0m\n\u001b[0m\u001b[1;32m     55\u001b[0m \u001b[0mdata\u001b[0m\u001b[0;34m.\u001b[0m\u001b[0mu_mask\u001b[0m\u001b[0;34m[\u001b[0m\u001b[0;34m:\u001b[0m\u001b[0mnum_u_nodes\u001b[0m\u001b[0;34m]\u001b[0m \u001b[0;34m=\u001b[0m \u001b[0;36m1\u001b[0m\u001b[0;34m\u001b[0m\u001b[0;34m\u001b[0m\u001b[0m\n\u001b[1;32m     56\u001b[0m \u001b[0mdata\u001b[0m\u001b[0;34m.\u001b[0m\u001b[0mv_mask\u001b[0m \u001b[0;34m=\u001b[0m \u001b[0;34m~\u001b[0m\u001b[0mdata\u001b[0m\u001b[0;34m.\u001b[0m\u001b[0mu_mask\u001b[0m\u001b[0;34m\u001b[0m\u001b[0;34m\u001b[0m\u001b[0m\n",
            "\u001b[0;31mAttributeError\u001b[0m: 'ellipsis' object has no attribute 'num_nodes'"
          ]
        }
      ]
    }
  ]
}