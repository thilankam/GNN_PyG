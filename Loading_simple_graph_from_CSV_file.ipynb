{
  "nbformat": 4,
  "nbformat_minor": 0,
  "metadata": {
    "colab": {
      "provenance": [],
      "authorship_tag": "ABX9TyOzTliFVQcXRdm1b1vCm7oL",
      "include_colab_link": true
    },
    "kernelspec": {
      "name": "python3",
      "display_name": "Python 3"
    },
    "language_info": {
      "name": "python"
    }
  },
  "cells": [
    {
      "cell_type": "markdown",
      "metadata": {
        "id": "view-in-github",
        "colab_type": "text"
      },
      "source": [
        "<a href=\"https://colab.research.google.com/github/thilankam/GraphNeuralNetwork_PyG/blob/main/Loading_simple_graph_from_CSV_file.ipynb\" target=\"_parent\"><img src=\"https://colab.research.google.com/assets/colab-badge.svg\" alt=\"Open In Colab\"/></a>"
      ]
    },
    {
      "cell_type": "code",
      "execution_count": 13,
      "metadata": {
        "colab": {
          "base_uri": "https://localhost:8080/"
        },
        "id": "gkvpMXA-oBxo",
        "outputId": "11898759-b0bf-453a-c6a9-5808061c7256"
      },
      "outputs": [
        {
          "output_type": "stream",
          "name": "stdout",
          "text": [
            "1.13.1+cu116\n",
            "  Installing build dependencies ... \u001b[?25l\u001b[?25hdone\n",
            "  Getting requirements to build wheel ... \u001b[?25l\u001b[?25hdone\n",
            "  Preparing metadata (pyproject.toml) ... \u001b[?25l\u001b[?25hdone\n"
          ]
        }
      ],
      "source": [
        "# Install required packages.\n",
        "import os\n",
        "import torch\n",
        "os.environ['TORCH'] = torch.__version__\n",
        "print(torch.__version__)\n",
        "\n",
        "!pip install -q torch-scatter -f https://data.pyg.org/whl/torch-${TORCH}.html\n",
        "!pip install -q torch-sparse -f https://data.pyg.org/whl/torch-${TORCH}.html\n",
        "!pip install -q git+https://github.com/pyg-team/pytorch_geometric.git\n",
        "\n",
        "# Helper function for visualization.\n",
        "%matplotlib inline\n",
        "import networkx as nx\n",
        "import matplotlib.pyplot as plt"
      ]
    },
    {
      "cell_type": "code",
      "source": [
        "import pandas as pd\n",
        "import torch\n",
        "from torch_geometric.data import Data"
      ],
      "metadata": {
        "id": "fLhvpcRYoF5m"
      },
      "execution_count": 2,
      "outputs": []
    },
    {
      "cell_type": "code",
      "source": [
        "node_data = pd.read_csv('/content/sample_data/example.csv')\n",
        "# /content/sample_data/example.csv"
      ],
      "metadata": {
        "id": "wNLgAMswpkzl"
      },
      "execution_count": 7,
      "outputs": []
    },
    {
      "cell_type": "code",
      "source": [
        "node_data.head"
      ],
      "metadata": {
        "colab": {
          "base_uri": "https://localhost:8080/"
        },
        "id": "i5nXKkV7p0D2",
        "outputId": "3ea02d98-ac32-4949-9bf4-c03fe9f9ac41"
      },
      "execution_count": 8,
      "outputs": [
        {
          "output_type": "execute_result",
          "data": {
            "text/plain": [
              "<bound method NDFrame.head of    node_id node_label  source_node  target_node  edge_weight\n",
              "0        0        red            0            1          0.5\n",
              "1        1       blue            1            2          0.8\n",
              "2        2      green            2            3          0.3\n",
              "3        3        red            3            4          0.9\n",
              "4        4       blue            4            0          0.2>"
            ]
          },
          "metadata": {},
          "execution_count": 8
        }
      ]
    },
    {
      "cell_type": "code",
      "source": [
        "# Load the node data from the CSV file\n",
        "node_data = pd.read_csv('/content/sample_data/example.csv', usecols=['node_id', 'node_label'])\n",
        "\n",
        "# Convert node labels to numerical values\n",
        "label_map = {'red': 0, 'blue': 1, 'green': 2}\n",
        "node_data['node_label'] = node_data['node_label'].map(label_map)\n",
        "\n",
        "# Convert node data to a PyTorch tensor\n",
        "x = torch.tensor(node_data[['node_label']].values, dtype=torch.float)\n",
        "\n",
        "# Load the edge data from the CSV file\n",
        "edge_data = pd.read_csv('/content/sample_data/example.csv', usecols=['source_node', 'target_node', 'edge_weight'])\n",
        "\n",
        "# Convert edge data to a PyTorch tensor\n",
        "edge_index = torch.tensor(edge_data[['source_node', 'target_node']].values.T, dtype=torch.long)\n",
        "edge_weight = torch.tensor(edge_data['edge_weight'].values, dtype=torch.float)\n",
        "\n",
        "# Create a PyG Data object\n",
        "data = Data(x=x, edge_index=edge_index, edge_attr=edge_weight)\n",
        "\n",
        "# Print the PyG Data object\n",
        "print(data)"
      ],
      "metadata": {
        "colab": {
          "base_uri": "https://localhost:8080/"
        },
        "id": "zwhcAmxOosSo",
        "outputId": "69644c7f-582e-4128-9432-11bd9ecab10d"
      },
      "execution_count": 10,
      "outputs": [
        {
          "output_type": "stream",
          "name": "stdout",
          "text": [
            "Data(x=[5, 1], edge_index=[2, 5], edge_attr=[5])\n"
          ]
        }
      ]
    },
    {
      "cell_type": "code",
      "source": [
        "# Vizualize the Graph\n",
        "\n",
        "import networkx as nx\n",
        "import matplotlib.pyplot as plt\n",
        "\n",
        "# Convert edge index to a list of tuples\n",
        "edge_list = data.edge_index.T.tolist()\n",
        "\n",
        "# Create a networkx graph from the edge list\n",
        "G = nx.Graph()\n",
        "G.add_edges_from(edge_list)\n",
        "\n",
        "# Set node colors based on their labels\n",
        "node_colors = ['red' if label == 0 else 'blue' if label == 1 else 'green' for label in node_data['node_label']]\n",
        "\n",
        "# Set edge widths based on their weights\n",
        "edge_widths = [weight.item() * 5 for weight in data.edge_attr]\n",
        "\n",
        "# Draw the graph with node labels, colors, and edge weights\n",
        "pos = nx.spring_layout(G)\n",
        "nx.draw(G, pos, with_labels=True, node_color=node_colors, width=edge_widths)\n",
        "\n",
        "# Show the plot\n",
        "plt.show()\n"
      ],
      "metadata": {
        "colab": {
          "base_uri": "https://localhost:8080/",
          "height": 319
        },
        "id": "ca19iK1bqWKN",
        "outputId": "626d0f9e-d154-4ef2-b70a-739adda23ec7"
      },
      "execution_count": 11,
      "outputs": [
        {
          "output_type": "display_data",
          "data": {
            "text/plain": [
              "<Figure size 432x288 with 1 Axes>"
            ],
            "image/png": "[encoded data removed]"
          },
          "metadata": {}
        }
      ]
    }
  ]
}