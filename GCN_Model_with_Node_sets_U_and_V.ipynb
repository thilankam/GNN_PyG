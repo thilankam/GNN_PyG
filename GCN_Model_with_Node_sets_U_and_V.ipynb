{
  "nbformat": 4,
  "nbformat_minor": 0,
  "metadata": {
    "colab": {
      "provenance": [],
      "authorship_tag": "ABX9TyN32wVzagDRkUkMEjmRWyZF",
      "include_colab_link": true
    },
    "kernelspec": {
      "name": "python3",
      "display_name": "Python 3"
    },
    "language_info": {
      "name": "python"
    }
  },
  "cells": [
    {
      "cell_type": "markdown",
      "metadata": {
        "id": "view-in-github",
        "colab_type": "text"
      },
      "source": [
        "<a href=\"https://colab.research.google.com/github/thilankam/GraphNeuralNetwork_PyG/blob/main/GCN_Model_with_Node_sets_U_and_V.ipynb\" target=\"_parent\"><img src=\"https://colab.research.google.com/assets/colab-badge.svg\" alt=\"Open In Colab\"/></a>"
      ]
    },
    {
      "cell_type": "code",
      "source": [
        "import os\n",
        "import torch\n",
        "os.environ['TORCH'] = torch.__version__\n",
        "print(torch.__version__)\n",
        "\n",
        "!pip install -q torch-scatter -f https://data.pyg.org/whl/torch-${TORCH}.html\n",
        "!pip install -q torch-sparse -f https://data.pyg.org/whl/torch-${TORCH}.html\n",
        "!pip install -q git+https://github.com/pyg-team/pytorch_geometric.git"
      ],
      "metadata": {
        "colab": {
          "base_uri": "https://localhost:8080/"
        },
        "id": "OYh1KPqLYVP3",
        "outputId": "a1dc6f92-3834-41d5-8464-5cc92d532b87"
      },
      "execution_count": 1,
      "outputs": [
        {
          "output_type": "stream",
          "name": "stdout",
          "text": [
            "1.13.1+cu116\n",
            "\u001b[2K     \u001b[90m━━━━━━━━━━━━━━━━━━━━━━━━━━━━━━━━━━━━━━━━\u001b[0m \u001b[32m9.4/9.4 MB\u001b[0m \u001b[31m60.4 MB/s\u001b[0m eta \u001b[36m0:00:00\u001b[0m\n",
            "\u001b[2K     \u001b[90m━━━━━━━━━━━━━━━━━━━━━━━━━━━━━━━━━━━━━━━━\u001b[0m \u001b[32m4.5/4.5 MB\u001b[0m \u001b[31m47.2 MB/s\u001b[0m eta \u001b[36m0:00:00\u001b[0m\n",
            "\u001b[?25h  Installing build dependencies ... \u001b[?25l\u001b[?25hdone\n",
            "  Getting requirements to build wheel ... \u001b[?25l\u001b[?25hdone\n",
            "  Preparing metadata (pyproject.toml) ... \u001b[?25l\u001b[?25hdone\n",
            "\u001b[2K     \u001b[90m━━━━━━━━━━━━━━━━━━━━━━━━━━━━━━━━━━━━━━\u001b[0m \u001b[32m280.2/280.2 KB\u001b[0m \u001b[31m19.6 MB/s\u001b[0m eta \u001b[36m0:00:00\u001b[0m\n",
            "\u001b[?25h  Building wheel for torch-geometric (pyproject.toml) ... \u001b[?25l\u001b[?25hdone\n"
          ]
        }
      ]
    },
    {
      "cell_type": "code",
      "source": [
        "import torch_geometric\n",
        "from torch_geometric.data import Data"
      ],
      "metadata": {
        "id": "5AtsMRdjYWwX"
      },
      "execution_count": 2,
      "outputs": []
    },
    {
      "cell_type": "code",
      "execution_count": 5,
      "metadata": {
        "id": "syIvYylYX4Rm"
      },
      "outputs": [],
      "source": [
        "import torch\n",
        "import torch.nn.functional as F\n",
        "from torch_geometric.nn import GCNConv\n",
        "from torch_geometric.utils import train_test_split_edges\n",
        "\n",
        "# Define the number of nodes in U and V\n",
        "num_nodes_u = 8\n",
        "num_nodes_v = 235\n",
        "\n",
        "# Create node feature matrices for U and V (here, we'll just use a random tensor)\n",
        "u_features = torch.randn(num_nodes_u, 32)\n",
        "v_features = torch.randn(num_nodes_v, 32)\n",
        "\n",
        "# Create edge indices (assuming no edges for now)\n",
        "edge_index = torch.tensor([], dtype=torch.long)\n",
        "\n",
        "# Create the PyG Data object\n",
        "data = Data(x=torch.cat([u_features, v_features], dim=0),\n",
        "            edge_index=edge_index)\n",
        "\n",
        "# Assign a node type to each node\n",
        "data.u_mask = torch.zeros(data.num_nodes, dtype=torch.bool)\n",
        "data.u_mask[:num_nodes_u] = True\n",
        "data.v_mask = torch.zeros(data.num_nodes, dtype=torch.bool)\n",
        "data.v_mask[num_nodes_u:] = True\n"
      ]
    },
    {
      "cell_type": "markdown",
      "source": [
        "Here, we define the number of nodes in U and V, create random node feature matrices for U and V, and create an empty edge index tensor. We then create a PyG Data object, which consists of node features and edge indices, and assign a node type to each node (in this case, U or V)."
      ],
      "metadata": {
        "id": "nZIMhq8hX9v_"
      }
    },
    {
      "cell_type": "code",
      "source": [
        "# Split the edges into training and testing sets\n",
        "train_edges, val_edges, test_edges = train_test_split_edges(data.edge_index, val_ratio=0.05, test_ratio=0.1)\n"
      ],
      "metadata": {
        "id": "BoR0Ds8vX8kh"
      },
      "execution_count": null,
      "outputs": []
    },
    {
      "cell_type": "markdown",
      "source": [
        "We use the train_test_split_edges function to split the edge indices into training, validation, and testing sets."
      ],
      "metadata": {
        "id": "H3eD7qxoYDfJ"
      }
    },
    {
      "cell_type": "code",
      "source": [
        "# Define the GCN model\n",
        "class GCN(torch.nn.Module):\n",
        "    def __init__(self, in_channels, hidden_channels, out_channels):\n",
        "        super(GCN, self).__init__()\n",
        "        self.conv1 = GCNConv(in_channels, hidden_channels)\n",
        "        self.conv2 = GCNConv(hidden_channels, out_channels)\n",
        "\n",
        "    def forward(self, x, edge_index):\n",
        "        x = F.relu(self.conv1(x, edge_index))\n",
        "        x = F.dropout(x, p=0.5, training=self.training)\n",
        "        x = self.conv2(x, edge_index)\n",
        "        return x\n"
      ],
      "metadata": {
        "id": "QtxN7u_nYEPb"
      },
      "execution_count": null,
      "outputs": []
    },
    {
      "cell_type": "markdown",
      "source": [
        "We define a simple two-layer Graph Convolutional Network (GCN) using the GCNConv module from the PyG library."
      ],
      "metadata": {
        "id": "QwqIF1rnYLZ7"
      }
    },
    {
      "cell_type": "code",
      "source": [
        "# Initialize the GCN model\n",
        "model = GCN(in_channels=32, hidden_channels=16, out_channels=1)\n",
        "\n",
        "# Define the loss function (binary cross-entropy)\n",
        "criterion = torch.nn.BCEWithLogitsLoss()\n",
        "\n",
        "# Define the optimizer (Adam)\n",
        "optimizer = torch.optim.Adam(model.parameters(), lr=0.01)\n",
        "\n",
        "# Train the model\n",
        "model.train()\n",
        "for epoch in range(50):\n",
        "    optimizer.zero_grad()\n",
        "    train_pos_edge_index = train_edges.to(device)\n",
        "    train_pos_y = torch.ones(train_pos_edge_index.size(1), dtype=torch.float32, device=device)\n",
        "    train_neg_edge_index = negative_sampling(train_pos_edge_index, num_nodes=data.num_nodes)\n",
        "    train_neg_y = torch.zeros(train_neg_edge_index.size(1), dtype=torch.float32, device=device)\n",
        "    train_edge_index = torch.cat([train_pos_edge_index, train_neg_edge_index], dim=-1)\n",
        "    train_y = torch.cat([train_pos_y, train_neg_y], dim=0)\n",
        "    out = model(data.x, train_edge_index).view(-1)\n",
        "    loss = criterion(out, train_y)\n",
        "    loss\n"
      ],
      "metadata": {
        "id": "XvrdNPBGYMOD"
      },
      "execution_count": null,
      "outputs": []
    }
  ]
}